{
 "cells": [
  {
   "cell_type": "code",
   "execution_count": 1,
   "metadata": {},
   "outputs": [],
   "source": [
    "Language = \"English\"\n",
    "# Language = \"Chinese\"\n",
    "mode = \"train\"\n",
    "param_num = 0"
   ]
  },
  {
   "cell_type": "code",
   "execution_count": 2,
   "metadata": {},
   "outputs": [
    {
     "name": "stdout",
     "output_type": "stream",
     "text": [
      "2024-06-12 14:25:27,359 P1314 INFO Train dataset size: 14041\n",
      "2024-06-12 14:25:27,361 P1314 INFO Validation dataset size: 3250\n"
     ]
    },
    {
     "name": "stderr",
     "output_type": "stream",
     "text": [
      "100%|██████████| 14041/14041 [00:00<00:00, 106833.38it/s]\n"
     ]
    }
   ],
   "source": [
    "from data_process import build_vocab, build_tag2idx, data_process, set_log, combine_data\n",
    "from HMM_model import HMM_model\n",
    "\n",
    "\n",
    "set_log(None)\n",
    "tag2idx = build_tag2idx(f\"../NER/{Language}/tag.txt\")\n",
    "train_data, valid_data, test_data = data_process(f\"../NER/{Language}\", mode=mode)\n",
    "\n",
    "train_path = f\"../NER/{Language}/train.txt\"\n",
    "vocab = build_vocab([train_path])\n",
    "\n",
    "model = HMM_model(tag2idx, vocab)\n",
    "model.train(train_data)\n",
    "model.save_param(f\"{Language}{param_num}\", format=\"npz\")\n",
    "\n",
    "y_pred = model.valid(valid_data)\n",
    "combined_data = combine_data([sentence for sentence, _ in valid_data], y_pred)\n",
    "\n",
    "output_file = f\"output_{Language}.txt\"\n",
    "with open(output_file, \"w\", encoding=\"utf-8\") as file:\n",
    "    file.write(combined_data)"
   ]
  },
  {
   "cell_type": "code",
   "execution_count": 3,
   "metadata": {},
   "outputs": [
    {
     "name": "stdout",
     "output_type": "stream",
     "text": [
      "              precision    recall  f1-score   support\n",
      "\n",
      "       B-PER     0.9651    0.6911    0.8054      1842\n",
      "       I-PER     0.9532    0.7628    0.8474      1307\n",
      "       B-ORG     0.8088    0.7442    0.7751      1341\n",
      "       I-ORG     0.8589    0.6405    0.7338       751\n",
      "       B-LOC     0.9126    0.8302    0.8694      1837\n",
      "       I-LOC     0.8682    0.7432    0.8008       257\n",
      "      B-MISC     0.9137    0.8037    0.8552       922\n",
      "      I-MISC     0.8488    0.6329    0.7252       346\n",
      "\n",
      "   micro avg     0.9025    0.7468    0.8173      8603\n",
      "   macro avg     0.8912    0.7311    0.8016      8603\n",
      "weighted avg     0.9054    0.7468    0.8165      8603\n",
      "\n"
     ]
    }
   ],
   "source": [
    "from pathlib import Path\n",
    "import sys\n",
    "\n",
    "sys.path.append(str(Path.cwd().parent))\n",
    "\n",
    "from NER.check import check\n",
    "\n",
    "\n",
    "report = check(\n",
    "    language=Language,\n",
    "    gold_path=f\"../NER/{Language}/validation.txt\",\n",
    "    my_path=output_file,\n",
    ")"
   ]
  }
 ],
 "metadata": {
  "kernelspec": {
   "display_name": "Python 3",
   "language": "python",
   "name": "python3"
  },
  "language_info": {
   "codemirror_mode": {
    "name": "ipython",
    "version": 3
   },
   "file_extension": ".py",
   "mimetype": "text/x-python",
   "name": "python",
   "nbconvert_exporter": "python",
   "pygments_lexer": "ipython3",
   "version": "3.10.14"
  }
 },
 "nbformat": 4,
 "nbformat_minor": 2
}
